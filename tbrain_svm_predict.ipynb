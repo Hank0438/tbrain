{
 "cells": [
  {
   "cell_type": "code",
   "execution_count": 1,
   "metadata": {
    "collapsed": false
   },
   "outputs": [],
   "source": [
    "import numpy as np\n",
    "import pandas as pd\n",
    "import matplotlib.pyplot as plt\n",
    "import sklearn\n",
    "from sklearn import svm"
   ]
  },
  {
   "cell_type": "code",
   "execution_count": 2,
   "metadata": {
    "collapsed": false
   },
   "outputs": [],
   "source": [
    "names = ['stock_number','date','stock_name','open','high','low','close','volume']\n",
    "dtype = {'stock_number':np.str, 'date':np.int32, 'open':np.float16,'high':np.float16,'low':np.float16,'close':np.float16,'volume':np.int32}\n",
    "\n",
    "#dataset\n",
    "tetfp = pd.read_csv('C:/Users/USER/Desktop/tbrain/dataset/tetfp.txt', encoding='big5hkscs',  sep='\\s+', names=names, dtype=dtype, low_memory=False)\n",
    "tsharep = pd.read_csv('C:/Users/USER/Desktop/tbrain/dataset/tsharep.txt', encoding='big5hkscs', sep='\\s+', names=names, dtype=dtype, low_memory=False)"
   ]
  },
  {
   "cell_type": "code",
   "execution_count": 3,
   "metadata": {
    "collapsed": true
   },
   "outputs": [],
   "source": [
    "tetfp_0050 = tetfp[tetfp.stock_number=='0050']\n",
    "tetfp_0050_18b = tetfp_0050[tetfp_0050.date < 20180000]\n",
    "tetfp_0050_17 = tetfp_0050[(tetfp_0050.date > 20170000)&(tetfp_0050.date < 20180000)]\n",
    "tetfp_0050_18 = tetfp_0050[tetfp_0050.date > 20180000]"
   ]
  },
  {
   "cell_type": "code",
   "execution_count": 4,
   "metadata": {
    "collapsed": true
   },
   "outputs": [],
   "source": [
    "tsharep_2317 = tsharep[tsharep.stock_number=='2317']\n",
    "tsharep_2317_18b = tsharep_2317[tsharep_2317.date < 20180000]\n",
    "tsharep_2317_18 = tsharep_2317[tsharep_2317.date > 20180000]\n",
    "tsharep_2330 = tsharep[tsharep.stock_number=='2330']\n",
    "tsharep_2330_18b = tsharep_2330[tsharep_2330.date < 20180000]\n",
    "tsharep_2330_18 = tsharep_2330[tsharep_2330.date > 20180000]"
   ]
  },
  {
   "cell_type": "code",
   "execution_count": 30,
   "metadata": {
    "collapsed": true
   },
   "outputs": [],
   "source": [
    "def diffRateGen(data):\n",
    "    diffRate = [0.0]\n",
    "    for i in range(len(data)):\n",
    "        if(i != 0):\n",
    "            if(data[i-1]==0): \n",
    "                diffRate.append(0)\n",
    "            else: \n",
    "                diffRate.append((data[i]-data[i-1])/data[i-1]-1)\n",
    "    return diffRate"
   ]
  },
  {
   "cell_type": "code",
   "execution_count": 31,
   "metadata": {
    "collapsed": true
   },
   "outputs": [],
   "source": [
    "def trend(data):\n",
    "    trend = []\n",
    "    for i in range(len(data)):\n",
    "        if(i != len(data)-1):\n",
    "            trend.append(np.sign(data[i+1]-data[i]))\n",
    "    trend.append(0)\n",
    "    return trend"
   ]
  },
  {
   "cell_type": "code",
   "execution_count": 32,
   "metadata": {
    "collapsed": false
   },
   "outputs": [
    {
     "data": {
      "text/plain": [
       "[1, 1, 1, -1, -1, -1, 0]"
      ]
     },
     "execution_count": 32,
     "metadata": {},
     "output_type": "execute_result"
    }
   ],
   "source": [
    "trend([0,1,2,5,3,2,1])"
   ]
  },
  {
   "cell_type": "code",
   "execution_count": 33,
   "metadata": {
    "collapsed": true
   },
   "outputs": [],
   "source": [
    "def ma(days, data):\n",
    "    ma = []\n",
    "    for i in range(len(data)):\n",
    "        if(i >= days-1):\n",
    "            value = 0.0\n",
    "            for j in range(days):\n",
    "                value += data[i-j]\n",
    "            ma.append(value/days)\n",
    "        else: \n",
    "            ma.append(data[i])\n",
    "    return ma"
   ]
  },
  {
   "cell_type": "code",
   "execution_count": 34,
   "metadata": {
    "collapsed": true
   },
   "outputs": [],
   "source": [
    "def closeGen(stock_number, dataset, data_len=321):\n",
    "    close = dataset[dataset.stock_number==stock_number].close.values\n",
    "    #possiblely shorter close_array\n",
    "    if(len(close)!=data_len):\n",
    "            close = np.concatenate([close, np.zeros(data_len-len(close))])\n",
    "    return close"
   ]
  },
  {
   "cell_type": "code",
   "execution_count": 35,
   "metadata": {
    "collapsed": false
   },
   "outputs": [],
   "source": [
    "def x_gen(data):\n",
    "    open_ = data.open.values\n",
    "    close_ = data.close.values\n",
    "    low = data.low.values\n",
    "    high = data.high.values\n",
    "\n",
    "    volume = data.volume.values\n",
    "    ma5 = ma(5, close_)\n",
    "    #ma10 = ma(10, close_)\n",
    "    #ma20 = ma(20, close_)\n",
    "    return_rate = diffRateGen(close_)\n",
    "    red_black = high-low\n",
    "    candle = np.sign(close_ - open_)\n",
    "    x = np.array([volume, ma5, return_rate, red_black, candle])\n",
    "    return x"
   ]
  },
  {
   "cell_type": "code",
   "execution_count": 40,
   "metadata": {
    "collapsed": false
   },
   "outputs": [],
   "source": [
    "train_x = np.concatenate((x_gen(tetfp_0050_18b), x_gen(tsharep_2317_18b), x_gen(tsharep_2330_18b)), axis=0).T\n",
    "train_y = trend(tetfp_0050_18b.close.values)"
   ]
  },
  {
   "cell_type": "code",
   "execution_count": 41,
   "metadata": {
    "collapsed": false
   },
   "outputs": [
    {
     "name": "stdout",
     "output_type": "stream",
     "text": [
      "acc = 0.9275244299674267\n"
     ]
    }
   ],
   "source": [
    "svm = sklearn.svm.SVC(C=0.8)\n",
    "clf = svm.fit(train_x,train_y)\n",
    "\n",
    "predict_y = svm.predict(train_x)\n",
    "E_in = np.count_nonzero(train_y != predict_y)\n",
    "print('acc =', 1 - E_in/len(train_x))"
   ]
  },
  {
   "cell_type": "code",
   "execution_count": 42,
   "metadata": {
    "collapsed": false
   },
   "outputs": [
    {
     "name": "stdout",
     "output_type": "stream",
     "text": [
      "acc = 0.8\n"
     ]
    }
   ],
   "source": [
    "test_x = np.concatenate((x_gen(tetfp_0050_18), x_gen(tsharep_2317_18), x_gen(tsharep_2330_18)), axis=0).T[:5]\n",
    "test_y = trend(tetfp_0050_18.close.values)[:5]\n",
    "\n",
    "predict_y = svm.predict(test_x)\n",
    "E_val = np.count_nonzero(test_y != predict_y)\n",
    "print('acc =', 1 - E_val/len(test_x))"
   ]
  },
  {
   "cell_type": "code",
   "execution_count": null,
   "metadata": {
    "collapsed": true
   },
   "outputs": [],
   "source": []
  }
 ],
 "metadata": {
  "kernelspec": {
   "display_name": "Python 3",
   "language": "python",
   "name": "python3"
  },
  "language_info": {
   "codemirror_mode": {
    "name": "ipython",
    "version": 3
   },
   "file_extension": ".py",
   "mimetype": "text/x-python",
   "name": "python",
   "nbconvert_exporter": "python",
   "pygments_lexer": "ipython3",
   "version": "3.6.0"
  }
 },
 "nbformat": 4,
 "nbformat_minor": 2
}

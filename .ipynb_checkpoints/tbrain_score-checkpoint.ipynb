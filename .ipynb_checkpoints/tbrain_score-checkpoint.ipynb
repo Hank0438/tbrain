{
 "cells": [
  {
   "cell_type": "code",
   "execution_count": 10,
   "metadata": {
    "collapsed": false
   },
   "outputs": [],
   "source": [
    "import numpy as np\n",
    "predict_trend = [1, 1, 1, 0, -1]\n",
    "predict_price = [85, 86, 85.5, 86.5, 87]\n",
    "actual_trend = [1, 1, 1, 0, -1]\n",
    "actual_price = [85, 86, 85.5, 86.5, 87]\n",
    "predict = np.array([predict_trend, predict_price])\n",
    "actual = np.array([actual_trend, actual_price])"
   ]
  },
  {
   "cell_type": "code",
   "execution_count": 8,
   "metadata": {
    "collapsed": false
   },
   "outputs": [],
   "source": [
    "def score(predict, actual):\n",
    "    predict_trend = predict[0]\n",
    "    predict_price = predict[1]\n",
    "    actual_trend = actual[0]\n",
    "    actual_price = actual[1]\n",
    "    score = 0.0\n",
    "    week_weight = [0.1, 0.15, 0.2, 0.25, 0.3]\n",
    "    for i in range(5):\n",
    "        day_score = ((actual_price[i]-abs(predict_price[i]-actual_price[i]))/actual_price[i])*0.5\n",
    "        day_score += (predict_trend[i]==actual_trend[i])*0.5\n",
    "        day_score *= week_weight[i]\n",
    "        score += day_score\n",
    "    return score"
   ]
  },
  {
   "cell_type": "code",
   "execution_count": 11,
   "metadata": {
    "collapsed": false
   },
   "outputs": [
    {
     "data": {
      "text/plain": [
       "1.0"
      ]
     },
     "execution_count": 11,
     "metadata": {},
     "output_type": "execute_result"
    }
   ],
   "source": [
    "score(predict, actual)"
   ]
  },
  {
   "cell_type": "code",
   "execution_count": null,
   "metadata": {
    "collapsed": true
   },
   "outputs": [],
   "source": []
  }
 ],
 "metadata": {
  "kernelspec": {
   "display_name": "Python 3",
   "language": "python",
   "name": "python3"
  },
  "language_info": {
   "codemirror_mode": {
    "name": "ipython",
    "version": 3
   },
   "file_extension": ".py",
   "mimetype": "text/x-python",
   "name": "python",
   "nbconvert_exporter": "python",
   "pygments_lexer": "ipython3",
   "version": "3.6.0"
  }
 },
 "nbformat": 4,
 "nbformat_minor": 2
}
